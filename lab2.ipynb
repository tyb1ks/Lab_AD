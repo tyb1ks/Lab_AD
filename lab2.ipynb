{
 "cells": [
  {
   "cell_type": "markdown",
   "metadata": {},
   "source": [
    "## Засоби підготовки та аналізу даних\n",
    "#### Корнієнко Андрій, ФБ-32. Лабораторна робота №2"
   ]
  },
  {
   "cell_type": "markdown",
   "metadata": {},
   "source": [
    "Імпортуємо бібліотеки"
   ]
  },
  {
   "cell_type": "code",
   "execution_count": 17,
   "metadata": {},
   "outputs": [],
   "source": [
    "import pandas as pd"
   ]
  },
  {
   "cell_type": "code",
   "execution_count": 18,
   "metadata": {},
   "outputs": [],
   "source": [
    "import urllib.request\n",
    "from datetime import datetime, date\n",
    "import os\n",
    "import csv"
   ]
  },
  {
   "cell_type": "markdown",
   "metadata": {},
   "source": [
    "Будуємо фундамент програми"
   ]
  },
  {
   "cell_type": "code",
   "execution_count": 19,
   "metadata": {},
   "outputs": [],
   "source": [
    "url_data=('https://www.star.nesdis.noaa.gov/smcd/emb/vci/VH/get_TS_admin.php?country=UKR&provinceID={''}&year1=1981&year2=2024&type=Mean')\n",
    "dir = 'CSV_Files'\n",
    "    \n",
    "indexes = {1: 22, 2: 24, 3: 23, 4: 25, 5: 3, 6: 4, 7: 8, 8: 19, 9: 20, 10: 21, 11: 9, 13: 10, 14: 11, 15: 12, 16: 13, 17: 14, 18: 15, 19: 16, 21: 17, 22: 18, 23: 6, 24: 1, 25: 2, 26: 7, 27: 5}\n",
    "if not os.path.exists(dir):\n",
    "    os.makedirs(dir)"
   ]
  },
  {
   "cell_type": "markdown",
   "metadata": {},
   "source": [
    "Створення головних функцій, а саме: конструктор для посилання, чеккер на наявність файлу у директорії, доунлоддер, апдейтер, компілятор ( згідно завданню є процедурою, що також змінює індекси областей, \"main()\")"
   ]
  },
  {
   "cell_type": "code",
   "execution_count": 20,
   "metadata": {},
   "outputs": [
    {
     "name": "stdout",
     "output_type": "stream",
     "text": [
      "Файл з останнім оновленням вже завантажено: CSV_Files\\NOAA_22_20250518203752.csv\n",
      "Файл з останнім оновленням вже завантажено: CSV_Files\\NOAA_24_20250518203753.csv\n",
      "Файл з останнім оновленням вже завантажено: CSV_Files\\NOAA_23_20250518203754.csv\n",
      "Файл з останнім оновленням вже завантажено: CSV_Files\\NOAA_25_20250518203755.csv\n",
      "Файл з останнім оновленням вже завантажено: CSV_Files\\NOAA_3_20250518203757.csv\n",
      "Файл з останнім оновленням вже завантажено: CSV_Files\\NOAA_4_20250518203758.csv\n",
      "Файл з останнім оновленням вже завантажено: CSV_Files\\NOAA_8_20250518203759.csv\n",
      "Файл з останнім оновленням вже завантажено: CSV_Files\\NOAA_19_20250518203800.csv\n",
      "Файл з останнім оновленням вже завантажено: CSV_Files\\NOAA_20_20250518203801.csv\n",
      "Файл з останнім оновленням вже завантажено: CSV_Files\\NOAA_21_20250518203802.csv\n",
      "Файл з останнім оновленням вже завантажено: CSV_Files\\NOAA_9_20250518203805.csv\n",
      "Файл з останнім оновленням вже завантажено: CSV_Files\\NOAA_10_20250518203806.csv\n",
      "Файл з останнім оновленням вже завантажено: CSV_Files\\NOAA_11_20250518203807.csv\n",
      "Файл з останнім оновленням вже завантажено: CSV_Files\\NOAA_12_20250518203808.csv\n",
      "Файл з останнім оновленням вже завантажено: CSV_Files\\NOAA_13_20250518203809.csv\n",
      "Файл з останнім оновленням вже завантажено: CSV_Files\\NOAA_14_20250518203810.csv\n",
      "Файл з останнім оновленням вже завантажено: CSV_Files\\NOAA_15_20250518203811.csv\n",
      "Файл з останнім оновленням вже завантажено: CSV_Files\\NOAA_16_20250518203813.csv\n",
      "Файл з останнім оновленням вже завантажено: CSV_Files\\NOAA_17_20250518203814.csv\n",
      "Файл з останнім оновленням вже завантажено: CSV_Files\\NOAA_18_20250518203816.csv\n",
      "Файл з останнім оновленням вже завантажено: CSV_Files\\NOAA_6_20250518203817.csv\n",
      "Файл з останнім оновленням вже завантажено: CSV_Files\\NOAA_1_20250518203818.csv\n",
      "Файл з останнім оновленням вже завантажено: CSV_Files\\NOAA_2_20250518203821.csv\n",
      "Файл з останнім оновленням вже завантажено: CSV_Files\\NOAA_7_20250518203822.csv\n",
      "Файл з останнім оновленням вже завантажено: CSV_Files\\NOAA_5_20250518203823.csv\n",
      "Виконано\n"
     ]
    }
   ],
   "source": [
    "def construct_url(province_id):\n",
    "    return url_data.format(province_id)\n",
    "\n",
    "def file_exists(directory, file_prefix):\n",
    "    for file_name in os.listdir(directory):\n",
    "        if file_name.startswith(file_prefix):\n",
    "            return True\n",
    "    return False\n",
    "\n",
    "def download_file(url, file_path):\n",
    "    with urllib.request.urlopen(url) as response:\n",
    "        text = response.read()\n",
    "        with open(file_path, 'wb') as file:\n",
    "            file.write(text)\n",
    "\n",
    "def update_file_if_needed(url, file_path):\n",
    "    with urllib.request.urlopen(url) as response:\n",
    "        new_text = response.read()\n",
    "        with open(file_path, 'rb') as file:\n",
    "            existing_text = file.read()\n",
    "        if existing_text != new_text:\n",
    "            with open(file_path, 'wb') as file:\n",
    "                file.write(new_text)\n",
    "            print('Файл оновлено:', file_path)\n",
    "        else:\n",
    "            print('Файл з останнім оновленням вже завантажено:', file_path)\n",
    "\n",
    "def main():\n",
    "    for province_id, index in indexes.items():\n",
    "        file_prefix = 'NOAA_' + str(index) + '_'\n",
    "        file_already_exists = file_exists(dir, file_prefix)\n",
    "\n",
    "        if not file_already_exists:\n",
    "            url = construct_url(province_id)\n",
    "            date_and_time_time = datetime.now().strftime(\"%Y%m%d%H%M%S\")\n",
    "            file_name = file_prefix + date_and_time_time + '.csv'\n",
    "            file_path = os.path.join(dir, file_name)\n",
    "            download_file(url, file_path)\n",
    "            print('Файл встановленно:', file_name)\n",
    "        else:\n",
    "            file_path = next((os.path.join(dir, file_name) for file_name in os.listdir(dir) if file_name.startswith(file_prefix)), None)\n",
    "            if file_path:\n",
    "                update_file_if_needed(construct_url(province_id), file_path)\n",
    "\n",
    "    print('Виконано')\n",
    "\n",
    "main()"
   ]
  },
  {
   "cell_type": "markdown",
   "metadata": {},
   "source": [
    "Створюємо потрібні нам змінні "
   ]
  },
  {
   "cell_type": "code",
   "execution_count": 21,
   "metadata": {},
   "outputs": [
    {
     "name": "stderr",
     "output_type": "stream",
     "text": [
      "C:\\Users\\tyb1l\\AppData\\Local\\Temp\\ipykernel_20172\\1696020492.py:22: FutureWarning: The behavior of DataFrame concatenation with empty or all-NA entries is deprecated. In a future version, this will no longer exclude empty or all-NA columns when determining the result dtypes. To retain the old behavior, exclude the relevant entries before the concat operation.\n",
      "  combined_data = pd.concat([combined_data, df], ignore_index=True)\n"
     ]
    },
    {
     "name": "stdout",
     "output_type": "stream",
     "text": [
      "       Year  Week    SMN     SMT    VCI    TCI    VHI Area\n",
      "0      1982   1.0  0.045  261.12  36.68  41.79  39.23   10\n",
      "1      1982   2.0  0.041  262.61  36.46  35.10  35.78   10\n",
      "2      1982   3.0  0.041  263.82  36.49  30.79  33.64   10\n",
      "3      1982   4.0  0.038  264.71  33.46  28.66  31.06   10\n",
      "4      1982   5.0  0.034  264.76  29.66  30.50  30.08   10\n",
      "...     ...   ...    ...     ...    ...    ...    ...  ...\n",
      "54645  2024  48.0  0.104  270.28  54.76  25.04  39.90    9\n",
      "54646  2024  49.0  0.091  268.05  49.12  29.95  39.53    9\n",
      "54647  2024  50.0  0.083  266.38  47.79  31.17  39.48    9\n",
      "54648  2024  51.0  0.077  265.11  47.37  29.80  38.58    9\n",
      "54649  2024  52.0  0.078  265.66  52.23  24.26  38.23    9\n",
      "\n",
      "[54650 rows x 8 columns]\n"
     ]
    }
   ],
   "source": [
    "output_path = \"united.csv\"\n",
    "\n",
    "column_names = [\"Year\", \"Week\", \"SMN\", \"SMT\", \"VCI\", \"TCI\", \"VHI\", \"Area\"]\n",
    "combined_data = pd.DataFrame(columns=column_names)\n",
    "\n",
    "filenames = os.listdir(dir)\n",
    "\n",
    "for filename in filenames:\n",
    "    if not filename.endswith(\".csv\"):\n",
    "        continue\n",
    "\n",
    "    file_path = os.path.join(dir, filename)\n",
    "\n",
    "    df = pd.read_csv(file_path, skiprows=2, names=column_names)\n",
    "    df[\"Year\"] = df[\"Year\"].str.replace('<tt><pre>', '').str.replace('</pre></tt>', '')\n",
    "\n",
    "    region_id = int(filename.split('_')[1])\n",
    "    df[\"Area\"] = region_id\n",
    "\n",
    "    df = df.drop(df.loc[df['VHI'] == -1].index).dropna()\n",
    "\n",
    "    combined_data = pd.concat([combined_data, df], ignore_index=True)\n",
    "\n",
    "combined_data.to_csv(output_path, index=False)\n",
    "\n",
    "print(combined_data)"
   ]
  },
  {
   "cell_type": "markdown",
   "metadata": {},
   "source": [
    "Ініціюємо датафрейм"
   ]
  },
  {
   "cell_type": "code",
   "execution_count": 22,
   "metadata": {},
   "outputs": [],
   "source": [
    "df=pd.read_csv('united.csv')"
   ]
  },
  {
   "cell_type": "markdown",
   "metadata": {},
   "source": [
    "Ряд VHI для області за вказаний рік, пошук екстремумів (min та max), середнє значення та медіана.#"
   ]
  },
  {
   "cell_type": "code",
   "execution_count": 23,
   "metadata": {},
   "outputs": [],
   "source": [
    "def procedure_1(dataframe, index, year):\n",
    "    vhi = dataframe[(dataframe[\"Area\"] == index) & (dataframe[\"Year\"] == year)]['VHI']\n",
    "    vhi_max = vhi.max()\n",
    "    vhi_min = vhi.min()\n",
    "    vhi_mean = vhi.mean()     # Среднее значение\n",
    "    vhi_median = vhi.median() # Медиана\n",
    "    vhi_row = ', '.join([str(val) for val in vhi.tolist()])\n",
    "    return (\n",
    "        f\"Ряд VHI для області за вказаний рік: {vhi_row}.\\n\"\n",
    "        f\"Мінімальний показник VHI для області з індексом {index} у {year} році складав {vhi_min}. \\n\"\n",
    "        f\"Максимальний показник VHI для області з індексом {index} у {year} році складав {vhi_max}.\\n\"\n",
    "        f\"Середнє значення VHI: {vhi_mean:.2f}, медіана: {vhi_median}.\"\n",
    "    )"
   ]
  },
  {
   "cell_type": "markdown",
   "metadata": {},
   "source": [
    "Тест:"
   ]
  },
  {
   "cell_type": "code",
   "execution_count": 24,
   "metadata": {},
   "outputs": [
    {
     "name": "stdout",
     "output_type": "stream",
     "text": [
      "Ряд VHI для області за вказаний рік: 41.49, 41.02, 38.27, 37.4, 38.0, 36.27, 34.85, 34.19, 33.52, 33.83, 34.49, 35.82, 36.66, 36.06, 36.48, 38.12, 41.9, 48.59, 54.24, 61.19, 67.96, 70.62, 71.54, 73.61, 76.33, 75.15, 69.78, 63.53, 58.93, 54.9, 51.89, 48.95, 49.38, 51.06, 52.09, 51.45, 49.46, 48.51, 47.07, 43.51, 39.42, 37.1, 34.77, 31.56, 29.51, 29.74, 29.7, 28.41, 27.52, 27.75, 28.31, 30.66.\n",
      "Мінімальний показник VHI для області з індексом 7 у 1993 році складав 27.52. \n",
      "Максимальний показник VHI для області з індексом 7 у 1993 році складав 76.33.\n",
      "Середнє значення VHI: 45.05, медіана: 40.22.\n"
     ]
    }
   ],
   "source": [
    "index = 7\n",
    "year = 1993\n",
    "print(procedure_1(df, index, year))"
   ]
  },
  {
   "cell_type": "markdown",
   "metadata": {},
   "source": [
    "Ряд VHI за вказаний діапазон років для вказаних областей;"
   ]
  },
  {
   "cell_type": "code",
   "execution_count": 25,
   "metadata": {},
   "outputs": [],
   "source": [
    "def procedure_2(dataframe, years_start, years_end, indexes):\n",
    "    years = range(years_start, years_end)\n",
    "    vhi_by_index = {}\n",
    "    for index in indexes:\n",
    "        filtered_df = dataframe[(dataframe[\"Area\"] == index) & (dataframe[\"Year\"].isin(years))]\n",
    "        vhi_by_index[index] = filtered_df[\"VHI\"].tolist()\n",
    "\n",
    "    for index, vhi in vhi_by_index.items():\n",
    "        print(f\"Ряд VHI для області з індексом {index} за вказаний діапазон років: {', '.join([str(val) for val in vhi])}\")"
   ]
  },
  {
   "cell_type": "markdown",
   "metadata": {},
   "source": [
    "Тест:"
   ]
  },
  {
   "cell_type": "code",
   "execution_count": 26,
   "metadata": {},
   "outputs": [
    {
     "name": "stdout",
     "output_type": "stream",
     "text": [
      "Ряд VHI для області з індексом 7 за вказаний діапазон років: 41.49, 41.02, 38.27, 37.4, 38.0, 36.27, 34.85, 34.19, 33.52, 33.83, 34.49, 35.82, 36.66, 36.06, 36.48, 38.12, 41.9, 48.59, 54.24, 61.19, 67.96, 70.62, 71.54, 73.61, 76.33, 75.15, 69.78, 63.53, 58.93, 54.9, 51.89, 48.95, 49.38, 51.06, 52.09, 51.45, 49.46, 48.51, 47.07, 43.51, 39.42, 37.1, 34.77, 31.56, 29.51, 29.74, 29.7, 28.41, 27.52, 27.75, 28.31, 30.66, 39.23, 46.16, 51.89, 52.1, 53.06, 52.14, 51.12, 48.9, 49.26, 48.63, 46.62, 42.8, 39.0, 36.75, 36.57, 36.94, 42.73, 52.59, 61.01, 66.2, 71.16, 75.04, 79.29, 83.26, 83.28, 79.24, 73.35, 65.67, 58.07, 52.21, 48.24, 44.62, 40.92, 37.86, 34.65, 30.25\n",
      "Ряд VHI для області з індексом 2 за вказаний діапазон років: 33.74, 31.88, 30.67, 32.28, 32.52, 32.95, 33.61, 34.66, 36.74, 38.89, 39.92, 41.68, 42.32, 43.61, 43.59, 40.95, 36.89, 35.71, 38.82, 43.81, 45.92, 46.81, 47.2, 47.19, 48.82, 49.53, 51.3, 54.46, 58.41, 61.69, 62.56, 62.8, 61.14, 58.14, 55.28, 54.13, 51.62, 50.18, 49.95, 49.22, 49.1, 48.97, 50.55, 54.42, 56.29, 57.27, 57.61, 56.66, 56.08, 54.25, 51.22, 50.94, 37.6, 39.11, 44.55, 48.04, 50.4, 50.67, 49.96, 49.55, 47.72, 46.68, 46.3, 46.05, 44.55, 41.89, 41.29, 43.53, 47.6, 53.51, 57.58, 62.51, 62.6, 59.17, 57.14, 51.6, 43.47, 35.37, 29.95, 23.33, 16.98, 13.34, 11.91, 13.17, 16.81, 18.98, 17.98, 17.12\n",
      "Ряд VHI для області з індексом 8 за вказаний діапазон років: 41.2, 41.14, 41.28, 42.18, 40.02, 38.88, 39.22, 40.25, 41.8, 43.02, 45.32, 48.72, 50.85, 52.21, 51.82, 49.09, 45.47, 42.42, 42.94, 46.12, 47.77, 48.78, 50.51, 52.56, 54.36, 54.31, 54.5, 57.29, 59.07, 60.03, 60.17, 60.26, 58.8, 55.67, 52.08, 48.91, 45.66, 42.85, 36.27, 29.19, 26.56, 27.56, 28.65, 29.51, 27.85, 27.14, 26.07, 26.12, 23.55, 21.36, 22.02, 22.4, 25.69, 29.99, 44.18, 47.68, 49.64, 48.18, 46.92, 45.56, 45.05, 43.2, 42.76, 44.24, 43.96, 44.97, 46.33, 49.43, 53.29, 57.42, 59.4, 62.24, 64.2, 64.85, 65.57, 65.75, 63.26, 57.92, 52.51, 47.14, 40.7, 35.29, 29.42, 26.37, 25.39, 24.3, 22.05, 19.06\n"
     ]
    }
   ],
   "source": [
    "starting_year = 1993\n",
    "ending_year = 1995\n",
    "province_indexes = [7, 2, 8]\n",
    "procedure_2(df, starting_year, ending_year, province_indexes)"
   ]
  },
  {
   "cell_type": "markdown",
   "metadata": {},
   "source": [
    "Для всього набору даних виявити роки, протягом яких екстремальні\n",
    "посухи торкнулися більше вказаного відсотка областей по Україні (20%\n",
    "областей - 5 областей з 25). Повернути роки, назви областей з\n",
    "екстремальними посухами та значення VHI;"
   ]
  },
  {
   "cell_type": "code",
   "execution_count": 29,
   "metadata": {},
   "outputs": [],
   "source": [
    "def procedure_3(dataframe, percent):\n",
    "    drought_df = dataframe[dataframe[\"VHI\"] < 15]\n",
    "\n",
    "    yearly_affected_counts = drought_df.groupby(\"Year\")[\"Area\"].nunique()\n",
    "    total_areas = dataframe[\"Area\"].nunique()\n",
    "    yearly_percentage_affected = yearly_affected_counts / total_areas\n",
    "\n",
    "    years_with_extreme_drought = yearly_percentage_affected[yearly_percentage_affected >= percent].index.tolist()\n",
    "\n",
    "    print(\"Роки з екстремальною посухою (VHI < 15), що торкнулася більше\", int(percent * 100), \"% областей:\")\n",
    "\n",
    "    for year in years_with_extreme_drought:\n",
    "        print(f\"\\nРік: {year}\")\n",
    "        affected_rows = drought_df[drought_df[\"Year\"] == year]\n",
    "\n",
    "        grouped = affected_rows.groupby(\"Area\")[\"VHI\"].apply(list)\n",
    "\n",
    "        for area_id, vhi_values in grouped.items():\n",
    "            vhi_list_str = ', '.join(f\"{v:.2f}\" for v in vhi_values)\n",
    "            print(f\" - Область ID: {area_id} | VHI: {vhi_list_str}\")\n"
   ]
  },
  {
   "cell_type": "markdown",
   "metadata": {},
   "source": [
    "Тест:"
   ]
  },
  {
   "cell_type": "code",
   "execution_count": 30,
   "metadata": {},
   "outputs": [
    {
     "name": "stdout",
     "output_type": "stream",
     "text": [
      "Роки з екстремальною посухою (VHI < 15), що торкнулася більше 20 % областей:\n",
      "\n",
      "Рік: 2007\n",
      " - Область ID: 7 | VHI: 14.26, 13.39, 13.33, 13.06, 13.13, 12.51, 11.55, 10.88, 11.06, 12.05, 13.84\n",
      " - Область ID: 13 | VHI: 11.44, 7.78, 6.44, 6.12, 6.11, 5.94, 6.36, 7.61, 9.45, 11.70\n",
      " - Область ID: 14 | VHI: 11.88, 9.21, 7.08, 5.90, 5.52, 5.85, 6.82, 8.86, 11.91\n",
      " - Область ID: 20 | VHI: 12.41, 12.23, 12.99, 13.33, 12.88, 12.63, 12.96, 13.48, 14.05, 14.41, 14.81\n",
      " - Область ID: 25 | VHI: 14.98, 14.23, 13.79, 13.41, 13.28, 14.36\n"
     ]
    }
   ],
   "source": [
    "procedure_3(df, 0.2)"
   ]
  }
 ],
 "metadata": {
  "kernelspec": {
   "display_name": "mylab",
   "language": "python",
   "name": "python3"
  },
  "language_info": {
   "codemirror_mode": {
    "name": "ipython",
    "version": 3
   },
   "file_extension": ".py",
   "mimetype": "text/x-python",
   "name": "python",
   "nbconvert_exporter": "python",
   "pygments_lexer": "ipython3",
   "version": "3.11.11"
  }
 },
 "nbformat": 4,
 "nbformat_minor": 2
}
